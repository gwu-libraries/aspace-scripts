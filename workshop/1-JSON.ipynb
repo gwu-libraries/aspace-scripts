{
 "cells": [
  {
   "cell_type": "markdown",
   "metadata": {},
   "source": [
    "## JSON basics \n",
    "[JSON](http://json.org/) (JavaScript Object Notation) is a common way of serializing data in a machine readable format for sharing. It's very common to see a REST API return responses in JSON. If you've never worked with JSON before, here is a quick overview:\n",
    "\n",
    "### Structure\n",
    "A very simple JSON object that stores information about my dog looks like this:\n",
    "```json\n",
    "{\"dog_name\" : \"Irma\"}\n",
    "```\n",
    "On the left, is the key, or metadata describing the value on the right, my dog's actual name. A more complex structure describing me might look like this:\n",
    "```json\n",
    "{\n",
    "    \"dog_name\" : \"Irma\",\n",
    "    \"breed\" : \"mutt\",\n",
    "    \"coat\" : \"black and brown\",\n",
    "    \"associated_humans\" : [\"Hannah\", \"Ian\"]\n",
    "}\n",
    "```\n",
    "Here we added more information by seperating new elements with a comma. We also made the value associated_humans a list so we could put in more than one value.\n",
    "\n",
    "### Hands on\n",
    "Lets try working with json in python. We'll start with the dog example above. As a technial aside, JSON is represented as a dictionary in python. The structure and syntax for dictionaries is almost exactly the same as JSON:"
   ]
  },
  {
   "cell_type": "code",
   "execution_count": 1,
   "metadata": {},
   "outputs": [
    {
     "name": "stdout",
     "output_type": "stream",
     "text": [
      "Saved dog information\n"
     ]
    }
   ],
   "source": [
    "# I'm going to assign the data above to a variable called \"dog\"\n",
    "\n",
    "dog = {\n",
    "    \"dog_name\" : \"Irma\",\n",
    "    \"breed\" : \"mutt\",\n",
    "    \"coat\" : \"black and brown\",\n",
    "    \"associated_humans\" : [\"Hannah\", \"Ian\"]\n",
    "}\n",
    "\n",
    "if dog:\n",
    "    print(\"Saved dog information\")"
   ]
  },
  {
   "cell_type": "code",
   "execution_count": 2,
   "metadata": {},
   "outputs": [
    {
     "data": {
      "text/plain": [
       "dict_keys(['dog_name', 'breed', 'coat', 'associated_humans'])"
      ]
     },
     "execution_count": 2,
     "metadata": {},
     "output_type": "execute_result"
    }
   ],
   "source": [
    "# I can list the keys by calling the .keys() method on dog\n",
    "dog.keys()"
   ]
  },
  {
   "cell_type": "code",
   "execution_count": 3,
   "metadata": {},
   "outputs": [
    {
     "data": {
      "text/plain": [
       "'black and brown'"
      ]
     },
     "execution_count": 3,
     "metadata": {},
     "output_type": "execute_result"
    }
   ],
   "source": [
    "# I can access the data in they keys with the following notation:\n",
    "# dog['keyname'], try selecting just the dog's breed or some other element below\n",
    "\n",
    "dog['coat']\n",
    "\n"
   ]
  },
  {
   "cell_type": "code",
   "execution_count": 6,
   "metadata": {},
   "outputs": [
    {
     "data": {
      "text/plain": [
       "'Hannah'"
      ]
     },
     "execution_count": 6,
     "metadata": {},
     "output_type": "execute_result"
    }
   ],
   "source": [
    "# The associated_humans keys has a list of two values. If we want\n",
    "# to get one or the other, we can use a number to access each\n",
    "# item in the list. For example 0 is the first item in the list.\n",
    "\n",
    "dog['associated_humans'][0]"
   ]
  },
  {
   "cell_type": "code",
   "execution_count": 7,
   "metadata": {
    "collapsed": true
   },
   "outputs": [],
   "source": [
    "# Let's add a new element to \"dog\". They syntax is\n",
    "# similar to accessing data in the previous example\n",
    "# dog['newkey'] = newvalue\n",
    "\n",
    "# try adding and age for the dog below\n",
    "\n",
    "\n",
    "\n",
    "dog['age'] = 7\n"
   ]
  },
  {
   "cell_type": "code",
   "execution_count": 9,
   "metadata": {},
   "outputs": [
    {
     "data": {
      "text/plain": [
       "{'age': 7,\n",
       " 'associated_humans': ['Hannah', 'Ian'],\n",
       " 'breed': 'mutt',\n",
       " 'coat': 'black and brown',\n",
       " 'dog_name': 'Irma'}"
      ]
     },
     "execution_count": 9,
     "metadata": {},
     "output_type": "execute_result"
    }
   ],
   "source": [
    "# Ok, now print out the dog object again to see if it worked.\n",
    "\n",
    "dog['age']\n",
    "dog\n",
    "\n"
   ]
  },
  {
   "cell_type": "code",
   "execution_count": null,
   "metadata": {
    "collapsed": true
   },
   "outputs": [],
   "source": []
  }
 ],
 "metadata": {
  "kernelspec": {
   "display_name": "Python 3",
   "language": "python",
   "name": "python3"
  },
  "language_info": {
   "codemirror_mode": {
    "name": "ipython",
    "version": 3
   },
   "file_extension": ".py",
   "mimetype": "text/x-python",
   "name": "python",
   "nbconvert_exporter": "python",
   "pygments_lexer": "ipython3",
   "version": "3.6.3"
  }
 },
 "nbformat": 4,
 "nbformat_minor": 2
}
