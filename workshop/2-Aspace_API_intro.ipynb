{
 "cells": [
  {
   "cell_type": "markdown",
   "metadata": {},
   "source": [
    "## What's an HTTP API?\n",
    "\n",
    "API stands for application programming interface. It's basically set of (hopefully) convenient methods for interacting with and controlling a program. HTTP APIs make these methods availble via the HTTP protocol. This is the same protocol most of us use daily to browse the web. To use HTTP we send requests to a resource and expect to get a response. For example, when you type https://en.wikipedia.org/wiki/Archive into your web browser, you're sending an HTTP GET request to Wikipedia, and you expect to get the article on Archives back.\n",
    "\n",
    "We do other types of HTTP requests through our web browsers too, for example, when you fill in a login form with your username and password and hit the login button, you're sending a POST request.: https://en.wikipedia.org/wiki/Hypertext_Transfer_Protocol#Request_methods\n",
    "\n",
    "## Let's make some HTTP requests in python\n",
    "\n",
    "You can make HTTP requests from python just like you can from your web browser. To do that, we'll use a set of tools called the requests library. To get the request library, we have to import it like so:"
   ]
  },
  {
   "cell_type": "code",
   "execution_count": null,
   "metadata": {
    "collapsed": true
   },
   "outputs": [],
   "source": [
    "import requests"
   ]
  },
  {
   "cell_type": "code",
   "execution_count": null,
   "metadata": {
    "collapsed": true
   },
   "outputs": [],
   "source": [
    "# lets make our first request, The reqeusts library will\n",
    "# be our browser, and we'll point it at the same Wikipedia article:\n",
    "requests.get('https://en.wikipedia.org/wiki/Archive')"
   ]
  },
  {
   "cell_type": "markdown",
   "metadata": {},
   "source": [
    "You should have got something back like `<Response [200]>`. 200 is the HTTP status code for a successful GET request (you're probably familiar with 404 which is the status code for not found). It's not super useful just just have that response spit back at us, so usually when you make a request, you save it to a variable like below. That way you can look at the response's content and other attributes later."
   ]
  },
  {
   "cell_type": "code",
   "execution_count": null,
   "metadata": {
    "collapsed": true
   },
   "outputs": [],
   "source": [
    "my_request = requests.get('https://en.wikipedia.org/wiki/Archive')"
   ]
  },
  {
   "cell_type": "code",
   "execution_count": null,
   "metadata": {
    "collapsed": true
   },
   "outputs": [],
   "source": [
    "# We've saved our request, and now we can do stuff with it\n",
    "# like print out the body of the response if we want\n",
    "my_request.content"
   ]
  },
  {
   "cell_type": "code",
   "execution_count": null,
   "metadata": {
    "collapsed": true
   },
   "outputs": [],
   "source": [
    "# you can also print out the status code, try that below. \n",
    "# the syntax is the same, exectp intstead of content, you're\n",
    "# asking for status_code. You can use the same syntax."
   ]
  },
  {
   "cell_type": "markdown",
   "metadata": {},
   "source": [
    "## Log in to the Aspace API \n",
    "\n",
    "Now that we're experts with the reqeusts library, let's turn our attention to Archivesspace. The first thing we need to do is log in, which is documented in the Aspace API docs here: https://archivesspace.github.io/archivesspace/api/#authentication. \n",
    "\n",
    "We can return to the login request later to understand how it works, but for now, fill in connection information:"
   ]
  },
  {
   "cell_type": "code",
   "execution_count": null,
   "metadata": {
    "collapsed": true
   },
   "outputs": [],
   "source": [
    "# we need our request making tool, which we \n",
    "# can get by importing it like so:\n",
    "import requests\n",
    "\n",
    "# first, we'll save bits of connection information (on the right)\n",
    "# as variables (on the right)\n",
    "\n",
    "USER = ''\n",
    "PASS = ''\n",
    "HOST = ''\n",
    "\n",
    "# Here's our authentication function. It will return a session\n",
    "# token if it works, or the value False if if doesn't\n",
    "\n",
    "\n",
    "def aspace_auth(host, username, password):\n",
    "    auth = requests.post(host + '/users/' + username + '/login',\n",
    "                        params={'password' : password})\n",
    "    if auth.status_code == 200:\n",
    "        token = auth.json()['session']\n",
    "        headers = {'X-ArchivesSpace-Session': token}\n",
    "        return(headers)\n",
    "    else:\n",
    "        return(False)\n",
    "\n",
    "headers = aspace_auth(HOST, USER, PASS)\n",
    "print(headers)"
   ]
  },
  {
   "cell_type": "markdown",
   "metadata": {},
   "source": [
    "## GET-ing a record out of Aspace\n",
    "\n",
    "Now that we're logged in, we're ready to make our first requests in aspace. The first step is to take a look at the Archivesspace API documentation. In particular, let's look at the documentation for how to get a digital object:\n",
    "\n",
    "https://archivesspace.github.io/archivesspace/api/#get-repositories-repo_id-digital_objects-id\n",
    "\n",
    "Let's break down the pattern they gave us in the documention:\n",
    "\n",
    "`/repositories/:repo_id/digital_objects/:id`\n",
    "\n",
    "A few key points:\n",
    "- calls are realative to you hostname\n",
    "- parts with a \":\"are variables\n",
    "\n",
    "So this call is fairly self explanitory, we're asking to get a digital object identified by \":id\", which is part of a repository \":repo_id\".\n",
    "\n",
    "Try putting together a call based on a a digital object you can find by looking at the Aspace web interface. As a hint, the Special Collections repo_id is 2, and an objects ID is the last number you see in the URL when you're viewing it."
   ]
  },
  {
   "cell_type": "code",
   "execution_count": null,
   "metadata": {
    "collapsed": true
   },
   "outputs": [],
   "source": [
    "# Our first get request to ask for an object. Edit the pattern to select your object:\n",
    "record_req = requests.get(\n",
    "    'http://someaspace.somewhere.org:8089/repositories/:repo_id/digital_objects/:id',\n",
    "    headers=headers\n",
    ")\n",
    "    "
   ]
  },
  {
   "cell_type": "code",
   "execution_count": null,
   "metadata": {
    "collapsed": true
   },
   "outputs": [],
   "source": [
    "# we can check our status code, or request content below to see\n",
    "# what we got back. I'm calling the .json() method on our\n",
    "# request result to show the request body as JSON.\n",
    "\n",
    "record = record_req.json()\n",
    "\n",
    "# print the record to the console\n",
    "record"
   ]
  },
  {
   "cell_type": "markdown",
   "metadata": {},
   "source": [
    "You should see JSON data that looks like it represents the object you found in your browser. \n",
    "\n",
    "### Edit a record \n",
    "\n",
    "Let's try editing some aspect of the data here, and then sending that change back to the API. We'll change the title of the digital object to test."
   ]
  },
  {
   "cell_type": "code",
   "execution_count": null,
   "metadata": {
    "collapsed": true
   },
   "outputs": [],
   "source": [
    "# remember we can select a piece of our JSON data by naming the \n",
    "# key in the format object['key']\n",
    "\n",
    "# we can print out the title field to see what it looks like now\n",
    "record['title']"
   ]
  },
  {
   "cell_type": "code",
   "execution_count": null,
   "metadata": {
    "collapsed": true
   },
   "outputs": [],
   "source": [
    "# Looks like the title is a string, so let's replace it with a new string\n",
    "record['title'] = \"SOME NEW TITLE\"\n",
    "\n",
    "# Now we'll print the record to the console again to see if it worked:\n",
    "record"
   ]
  },
  {
   "cell_type": "markdown",
   "metadata": {},
   "source": [
    "## Pause and Recap\n",
    "\n",
    "Questions?\n",
    "\n",
    "Here's what we've done so far:\n",
    "- Used the API to download a copy of a record as JSON to our laptops\n",
    "- Edited our local copy of the record by replacing the title field\n",
    "\n",
    "To Do:\n",
    "- Send the changes we've made locally back to Aspace (i.e. edit the remote record)"
   ]
  },
  {
   "cell_type": "markdown",
   "metadata": {},
   "source": [
    "## POST-ing our record back into Aspace\n",
    "\n",
    "To complete our circle, we'll write our changes to Aspace. Let's look at the API documentation for sending our record back up: https://archivesspace.github.io/archivesspace/api/#post-repositories-repo_id-digital_objects-id\n",
    "\n",
    "It should look familiar, in fact the url we'll be sending our request to is the same. The key differences, are that we're using a different HTTP method (POST instead of GET) and we're sending some data along with our request. The syntax for posting data with our Python Requests library is like so:\n",
    "```python\n",
    "request_result = requests.post(\"http://example.com\",\n",
    "                                data=\"some data\",\n",
    "                                headers=headers_variable)\n",
    "```\n",
    "Notice it's more or less the same, except we've added the data= argument and we've chagned get to post.\n",
    "\n",
    "### Technical note about posting data\n",
    "\n",
    "Aspace is expecting your data to come as a string, but we've been working with our data as JSON in python, which is a different data type. When we're done editing the data and ready to post it, we'll convert it to a string. Python's json library has a method to do this. They syntax is: `json.dumps(json_data)`.\n"
   ]
  },
  {
   "cell_type": "code",
   "execution_count": null,
   "metadata": {
    "collapsed": true
   },
   "outputs": [],
   "source": [
    "# Let's try posting our object back up and break down how the request works:\n",
    "\n",
    "post_result = requests.post('http://someaspace.somewhere.org:8089/repositories/:repo_id/digital_objects/:id',\n",
    "                             data=json.dumps(record),\n",
    "                             headers=headers)"
   ]
  },
  {
   "cell_type": "code",
   "execution_count": null,
   "metadata": {
    "collapsed": true
   },
   "outputs": [],
   "source": [
    "# We can see what kind of response we got back the same way we did with our get reqeust\n",
    "post_result.json()"
   ]
  },
  {
   "cell_type": "markdown",
   "metadata": {},
   "source": [
    "## Wrap up and Questions \n",
    "\n",
    "We've made it through a complete simple workflow to edit one item via the API in Aspace. In the followng parts of the workshop, we'll look at ways to operate on multiple records, and more sophistacated ways to retrieve records, but the workflow will remain the same:\n",
    "\n",
    "1. Get records from Aspace\n",
    "2. Edit them Locally\n",
    "3. Post them back up to Aspace"
   ]
  }
 ],
 "metadata": {
  "kernelspec": {
   "display_name": "Python 3",
   "language": "python",
   "name": "python3"
  },
  "language_info": {
   "codemirror_mode": {
    "name": "ipython",
    "version": 3
   },
   "file_extension": ".py",
   "mimetype": "text/x-python",
   "name": "python",
   "nbconvert_exporter": "python",
   "pygments_lexer": "ipython3",
   "version": "3.6.3"
  }
 },
 "nbformat": 4,
 "nbformat_minor": 2
}
