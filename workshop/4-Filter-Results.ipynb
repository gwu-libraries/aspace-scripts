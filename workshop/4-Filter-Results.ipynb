{
 "cells": [
  {
   "cell_type": "markdown",
   "metadata": {},
   "source": [
    "## Filter results - find top containers with no location\n",
    "The Aspace API is mosly built around getting and editing objects by thier IDs. In order to do a bulk operation, you'll need to have some way to arrive at a list of item IDs. You get all IDs for a type of object in a repository, all child IDs from a known Item, or if you have time, look at every item.\n",
    "\n",
    "### Example, Get a sample of top contianers\n",
    "First, we'll need to log in again:"
   ]
  },
  {
   "cell_type": "code",
   "execution_count": null,
   "metadata": {},
   "outputs": [],
   "source": [
    "# Log in again\n",
    "\n",
    "# we need our request making tool, which we \n",
    "# can get by importing it like so:\n",
    "import json\n",
    "import requests\n",
    "\n",
    "# first, we'll save bits of connection information (on the right)\n",
    "# as variables (on the right)\n",
    "\n",
    "USER = ''\n",
    "PASS = ''\n",
    "HOST = ''\n",
    "\n",
    "# Here's our authentication function. It will return a session\n",
    "# token if it works, or the value False if if doesn't\n",
    "\n",
    "\n",
    "def aspace_auth(host, username, password):\n",
    "    auth = requests.post(host + '/users/' + username + '/login',\n",
    "                        params={'password' : password})\n",
    "    if auth.status_code == 200:\n",
    "        token = auth.json()['session']\n",
    "        headers = {'X-ArchivesSpace-Session': token}\n",
    "        return(headers)\n",
    "    else:\n",
    "        return(False)\n",
    "\n",
    "headers = aspace_auth(HOST, USER, PASS)\n",
    "print(headers)"
   ]
  },
  {
   "cell_type": "markdown",
   "metadata": {},
   "source": [
    "### API reference: archival object children\n",
    "https://archivesspace.github.io/archivesspace/api/#get-repositories-repo_id-top_containers\n",
    "\n",
    "You can view the documentation for the API call for getting all top level containers from a repoitory above. I find the documentation a bit confusing here, but you must include some parameter to tell the API how many IDs you want (the results are paginated). Below I'm passing in a page number and how many results per page as query string parameters in the format `?page=X&page_size=X`."
   ]
  },
  {
   "cell_type": "code",
   "execution_count": null,
   "metadata": {},
   "outputs": [],
   "source": [
    "# The format for the API call is/repositories/:repo_id/top_containers.\n",
    "# You can fill in the details fo the call below.\n",
    "\n",
    "container_req = requests.get(HOST +'/repositories/2/top_containers?page=5&page_size=250',\n",
    "                             headers=headers)"
   ]
  },
  {
   "cell_type": "code",
   "execution_count": null,
   "metadata": {
    "collapsed": true
   },
   "outputs": [],
   "source": [
    "# We'll save the json we got back as a variable called \"containers\"\n",
    "containers = container_req.json()\n"
   ]
  },
  {
   "cell_type": "code",
   "execution_count": null,
   "metadata": {},
   "outputs": [],
   "source": [
    "# now let's see what it looks like\n",
    "containers.keys()\n"
   ]
  },
  {
   "cell_type": "code",
   "execution_count": null,
   "metadata": {},
   "outputs": [],
   "source": [
    "# lets get the total number of pages (we'll use this later)\n",
    "containers['last_page']"
   ]
  },
  {
   "cell_type": "code",
   "execution_count": null,
   "metadata": {},
   "outputs": [],
   "source": [
    "# also, dump it here to get abetter look\n",
    "containers"
   ]
  },
  {
   "cell_type": "markdown",
   "metadata": {},
   "source": [
    "### What does this mean\n",
    "\n",
    "Looks like we're getting a few facts back. We learn how many pages of results there are, what the first page of results is, and what page we're viewing now. Also included in the results key is a list of json objects that represent our containers."
   ]
  },
  {
   "cell_type": "code",
   "execution_count": null,
   "metadata": {},
   "outputs": [],
   "source": [
    "# Let's look at one container record for kicks\n",
    "containers['results'][0]"
   ]
  },
  {
   "cell_type": "markdown",
   "metadata": {},
   "source": [
    "### Filter for empty locations\n",
    "\n",
    "Now, we can use a loop to do something with the first list of containers, let's check for top level containers that have no location codes. Looking at the above example example, we can see container_locations contains location information as a list. We'll check for any top level containers where this list is emtpy. "
   ]
  },
  {
   "cell_type": "code",
   "execution_count": null,
   "metadata": {
    "collapsed": true
   },
   "outputs": [],
   "source": [
    "# OK container location is represented as a list\n",
    "# below, we'll add the empty containers to a new\n",
    "# list called empty_locations\n",
    "\n",
    "# start with an empty list\n",
    "empty_location_containers = []\n",
    "\n",
    "# for each container in our sample of containers\n",
    "for container in containers['results']:\n",
    "    # if the value of the continaer_locations key is an empty list\n",
    "    if container['container_locations'] == []:\n",
    "        # add it to our empty list\n",
    "        empty_location_containers.append(container)"
   ]
  },
  {
   "cell_type": "code",
   "execution_count": null,
   "metadata": {},
   "outputs": [],
   "source": [
    "# check the length of our list\n",
    "len(empty_location_containers)"
   ]
  },
  {
   "cell_type": "code",
   "execution_count": null,
   "metadata": {},
   "outputs": [],
   "source": [
    "empty_location_containers"
   ]
  },
  {
   "cell_type": "code",
   "execution_count": null,
   "metadata": {
    "collapsed": true
   },
   "outputs": [],
   "source": [
    "# Maybe you want to save these records to a file.\n",
    "# Glossing over the file writing syntax. Docs here:\n",
    "# https://docs.python.org/3/tutorial/inputoutput.html#reading-and-writing-files\n",
    "\n",
    "with open('empty_locations_sample.jsonl', 'w') as fh:\n",
    "    for record in empty_location_containers:\n",
    "        # Here we're writing our record, and a newline character\n",
    "        # so we end up with one record per line\n",
    "        fh.write(json.dumps(record) + '\\n')"
   ]
  },
  {
   "cell_type": "markdown",
   "metadata": {},
   "source": [
    "### Putting it all together\n",
    "\n",
    "So Now we've done some exploration and pieced together a workflow to identify empty containers, lets put it all together in one script now.\n",
    "\n",
    "### STOP HERE"
   ]
  },
  {
   "cell_type": "code",
   "execution_count": null,
   "metadata": {},
   "outputs": [],
   "source": [
    "# import libraries\n",
    "\n",
    "import requests\n",
    "import json\n",
    "\n",
    "# first, we'll save bits of connection information (on the right)\n",
    "# as variables (on the right)\n",
    "\n",
    "USER = ''\n",
    "PASS = ''\n",
    "HOST = ''\n",
    "\n",
    "# The last page of results (I'm cheating\n",
    "# a bit because I already know what the last page is from our \n",
    "# previous excersise). this takes a long time, so we'll pretent\n",
    "# you have a lot less top level containers\n",
    "\n",
    "#LAST_PAGE = 120\n",
    "\n",
    "LAST_PAGE = 3\n",
    "PAGE_SIZE = 250\n",
    "\n",
    "# Here's our authentication function. It will return a session\n",
    "# token if it works, or the value False if if doesn't\n",
    "\n",
    "\n",
    "def aspace_auth(host, username, password):\n",
    "    auth = requests.post(host + '/users/' + username + '/login',\n",
    "                        params={'password' : password})\n",
    "    if auth.status_code == 200:\n",
    "        token = auth.json()['session']\n",
    "        headers = {'X-ArchivesSpace-Session': token}\n",
    "        return(headers)\n",
    "    else:\n",
    "        return(False)\n",
    "\n",
    "headers = aspace_auth(HOST, USER, PASS)\n",
    "\n",
    "# OK, let's get those empty containers!\n",
    "\n",
    "# We'll sart on page 1\n",
    "page = 1\n",
    "\n",
    "# While this condition is true (1 is less than or equal to 3 in this case)\n",
    "while page <= LAST_PAGE:\n",
    "    # Get a page of containers, notice how we're filling in\n",
    "    # the value of page and page size each time.\n",
    "    container_req = requests.get(HOST +'/repositories/2/top_containers?page='\n",
    "                                 + str(page)\n",
    "                                 + '&page_size=' \n",
    "                                 + str(PAGE_SIZE),\n",
    "                                 headers=headers)\n",
    "    \n",
    "    # I put this in so there's some output and we don't get\n",
    "    # too impatient\n",
    "    if container_req.status_code <= 299:\n",
    "        print(\"Got result page: \" + container_req.url)\n",
    "    \n",
    "    # We're interested in the results\n",
    "    containers = container_req.json()['results']\n",
    "    \n",
    "    # We'll open a file to write our empty continers to\n",
    "    fh = open('page_' + str(page) + '_continaers.jsonl', 'w')\n",
    "    \n",
    "    # We'll do our filter for each set of results\n",
    "    for container in containers:\n",
    "        # if the value of the continaer_locations key is an empty list\n",
    "        if container['container_locations'] == []:\n",
    "            # add write it to our file\n",
    "            fh.write(json.dumps(container) + '\\n')\n",
    "    \n",
    "    # finally, add 1 to the page so the next time the loop\n",
    "    # runs it will get the next page\n",
    "    page = page + 1\n",
    "    \n"
   ]
  }
 ],
 "metadata": {
  "kernelspec": {
   "display_name": "Python 3",
   "language": "python",
   "name": "python3"
  },
  "language_info": {
   "codemirror_mode": {
    "name": "ipython",
    "version": 3
   },
   "file_extension": ".py",
   "mimetype": "text/x-python",
   "name": "python",
   "nbconvert_exporter": "python",
   "pygments_lexer": "ipython3",
   "version": "3.6.3"
  }
 },
 "nbformat": 4,
 "nbformat_minor": 2
}
