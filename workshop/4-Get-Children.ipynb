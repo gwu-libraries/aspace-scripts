{
 "cells": [
  {
   "cell_type": "markdown",
   "metadata": {},
   "source": [
    "# Getting Child Objects\n",
    "\n",
    "Part of the reason we want to use the API, is to do things in batches. One of the simpler ways to do that is do get the child items of an object in the heirarchy. For this example, we'll look at the children of an archival object."
   ]
  },
  {
   "cell_type": "code",
   "execution_count": null,
   "metadata": {},
   "outputs": [],
   "source": [
    "# Log in again\n",
    "\n",
    "# we need our request making tool, which we \n",
    "# can get by importing it like so:\n",
    "import json\n",
    "import requests\n",
    "\n",
    "# first, we'll save bits of connection information (on the right)\n",
    "# as variables (on the right)\n",
    "\n",
    "USER = ''\n",
    "PASS = ''\n",
    "HOST = ''\n",
    "\n",
    "# Here's our authentication function. It will return a session\n",
    "# token if it works, or the value False if if doesn't\n",
    "\n",
    "\n",
    "def aspace_auth(host, username, password):\n",
    "    auth = requests.post(host + '/users/' + username + '/login',\n",
    "                        params={'password' : password})\n",
    "    if auth.status_code == 200:\n",
    "        token = auth.json()['session']\n",
    "        headers = {'X-ArchivesSpace-Session': token}\n",
    "        return(headers)\n",
    "    else:\n",
    "        return(False)\n",
    "\n",
    "headers = aspace_auth(HOST, USER, PASS)\n",
    "print(headers)"
   ]
  },
  {
   "cell_type": "markdown",
   "metadata": {},
   "source": [
    "## API Call documentation\n",
    "\n",
    "Take a look at the documentation for this API call here:\n",
    "\n",
    "https://archivesspace.github.io/archivesspace/api/#get-repositories-repo_id-archival_objects-id-children\n",
    "\n",
    "It looks a lot like the call we did in the last notebook, but this time we're asking for children too. Take a minute to find an archival object in the user interface to work with."
   ]
  },
  {
   "cell_type": "code",
   "execution_count": null,
   "metadata": {
    "collapsed": true
   },
   "outputs": [],
   "source": [
    "# I'll get object with the ID of 290 wich I already know has children\n",
    "# for this demonstartion\n",
    "\n",
    "children_req = requests.get(HOST + '/repositories/2/archival_objects/290/children', headers=headers)\n",
    "\n",
    "\n"
   ]
  },
  {
   "cell_type": "code",
   "execution_count": null,
   "metadata": {},
   "outputs": [],
   "source": [
    "children_req.status_code"
   ]
  },
  {
   "cell_type": "markdown",
   "metadata": {
    "collapsed": true
   },
   "source": [
    "### Figure out the structure of what we got back\n",
    "\n",
    "We know our request was successful, and we know the Aspace API responds in JSON, so let's take a minute to figure out the structure of the response we got"
   ]
  },
  {
   "cell_type": "code",
   "execution_count": null,
   "metadata": {
    "collapsed": true
   },
   "outputs": [],
   "source": [
    "children = children_req.json()"
   ]
  },
  {
   "cell_type": "code",
   "execution_count": null,
   "metadata": {},
   "outputs": [],
   "source": [
    "children.keys()"
   ]
  },
  {
   "cell_type": "code",
   "execution_count": null,
   "metadata": {},
   "outputs": [],
   "source": [
    "# Whoops, The error says 'list' has no attribute keys\n",
    "# Let's look at one item in the list\n",
    "children[0]"
   ]
  },
  {
   "cell_type": "markdown",
   "metadata": {},
   "source": [
    "### Do something with the results\n",
    "\n",
    "We can use the loops we reviewed in the last notebooks to do something to each result."
   ]
  },
  {
   "cell_type": "code",
   "execution_count": null,
   "metadata": {},
   "outputs": [],
   "source": [
    "# Print each display stirng\n",
    "for child in children:\n",
    "    print(child['display_string'])"
   ]
  },
  {
   "cell_type": "code",
   "execution_count": null,
   "metadata": {
    "collapsed": true
   },
   "outputs": [],
   "source": [
    "# Or write every result to a file so we can edit it in OpenRefine or some other tool\n",
    "# We're not going over the syntax for creating files in this workshop, but the full\n",
    "# documentation is here: https://docs.python.org/3/tutorial/inputoutput.html#reading-and-writing-files\n",
    "\n",
    "# Open a file\n",
    "fh = open('children.jsonl', 'w')\n",
    "\n",
    "# For each child\n",
    "for child in children:\n",
    "    # write the json as a string plus a newline character\n",
    "    fh.write(json.dumps(child) + '\\n')\n",
    "\n",
    "# close the file    \n",
    "fh.close()\n"
   ]
  },
  {
   "cell_type": "markdown",
   "metadata": {},
   "source": [
    "### Posting more than one item\n",
    "\n",
    "We can also use the loops we learned to to a post request too. The syntax is pretty much the same as we used in the last lesson. You can review it here:\n",
    "\n",
    "https://archivesspace.github.io/archivesspace/api/#post-repositories-repo_id-archival_objects-id"
   ]
  },
  {
   "cell_type": "code",
   "execution_count": null,
   "metadata": {},
   "outputs": [],
   "source": [
    "for child in children:\n",
    "    # Do some edit\n",
    "    # child['display_string'] = \"bulk edit\"\n",
    "    post_result = requests.post(HOST + child['uri'],\n",
    "                                 data=json.dumps(child),\n",
    "                                 headers=headers)\n",
    "    print(post_result.status_code)"
   ]
  }
 ],
 "metadata": {
  "kernelspec": {
   "display_name": "Python 3",
   "language": "python",
   "name": "python3"
  },
  "language_info": {
   "codemirror_mode": {
    "name": "ipython",
    "version": 3
   },
   "file_extension": ".py",
   "mimetype": "text/x-python",
   "name": "python",
   "nbconvert_exporter": "python",
   "pygments_lexer": "ipython3",
   "version": "3.6.3"
  }
 },
 "nbformat": 4,
 "nbformat_minor": 2
}
