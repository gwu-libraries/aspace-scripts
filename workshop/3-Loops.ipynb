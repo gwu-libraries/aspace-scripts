{
 "cells": [
  {
   "cell_type": "markdown",
   "metadata": {},
   "source": [
    "## Doing stuff more than once\n",
    "\n",
    "In the last section, we updated a single record using the API. In order to take advantage of the API, we really want to operate on more than one record at a time. We'll need some understanding of creating loops in Python to do that. In partiular, lets focus on the for loop.\n",
    "\n",
    "The idea here is to perform a set of instructions for every item in a list of items. Here are some ways you might take advantage of the for loop in the Aspace API context:\n",
    "\n",
    "- You have a list of 100 records that you've edited using OpenRefine in CSV. You want to send these updated records back up to Aspace. Using a for loop will allow you to define a routine for posting records, and perform it on every record.\n",
    "- You have a list of records and you want to make similar edits to all of them.\n",
    "\n",
    "### The for loop\n",
    "Lets try writing some for loop examples. We'll need to start with a list of items. I'll start with a list of JSON objects defined below. Lists can contain any data type, lets start with a list of integers."
   ]
  },
  {
   "cell_type": "code",
   "execution_count": null,
   "metadata": {
    "collapsed": true
   },
   "outputs": [],
   "source": [
    "# Define a list of objects\n",
    "\n",
    "numbers = [1, 2, 3, 4, 5, 6, 7, 8, 9, 10, 11, 12, 13, 14, 15, 16, 17, 18, 19, 20]"
   ]
  },
  {
   "cell_type": "code",
   "execution_count": null,
   "metadata": {
    "collapsed": true
   },
   "outputs": [],
   "source": [
    "# our first for loop:\n",
    "\n",
    "for number in numbers:\n",
    "    print(number)"
   ]
  },
  {
   "attachments": {},
   "cell_type": "markdown",
   "metadata": {},
   "source": [
    "### Structure\n",
    "\n",
    "![For loop](\"img/ForLoop.png\")\n",
    "\n"
   ]
  },
  {
   "cell_type": "code",
   "execution_count": 9,
   "metadata": {
    "collapsed": true
   },
   "outputs": [],
   "source": [
    "# Try writing an example that adds 10 to each number\n",
    "\n"
   ]
  },
  {
   "cell_type": "code",
   "execution_count": null,
   "metadata": {
    "collapsed": true
   },
   "outputs": [],
   "source": [
    "# One more example of a more advanced use\n",
    "\n",
    "for number in numbers:\n",
    "    if number >= 5:\n",
    "        print(str(number) + \" is greater or equal to five\")"
   ]
  }
 ],
 "metadata": {
  "kernelspec": {
   "display_name": "Python 3",
   "language": "python",
   "name": "python3"
  },
  "language_info": {
   "codemirror_mode": {
    "name": "ipython",
    "version": 3
   },
   "file_extension": ".py",
   "mimetype": "text/x-python",
   "name": "python",
   "nbconvert_exporter": "python",
   "pygments_lexer": "ipython3",
   "version": "3.6.3"
  }
 },
 "nbformat": 4,
 "nbformat_minor": 2
}
