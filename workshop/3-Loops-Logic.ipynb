{
 "cells": [
  {
   "cell_type": "markdown",
   "metadata": {},
   "source": [
    "# Doing stuff more than once\n",
    "\n",
    "In the last section, we updated a single record using the API. In order to take advantage of the API, we really want to operate on more than one record at a time. We'll need some understanding of creating loops in Python to do that. In partiular, lets focus on the for loop.\n",
    "\n",
    "The idea here is to perform a set of instructions for every item in a list of items. Here are some ways you might take advantage of the for loop in the Aspace API context:\n",
    "\n",
    "- You have a list of 100 records that you've edited using OpenRefine in CSV. You want to send these updated records back up to Aspace. Using a for loop will allow you to define a routine for posting records, and perform it on every record.\n",
    "- You have a list of records and you want to make similar edits to all of them.\n",
    "\n",
    "## The for loop\n",
    "Lets try writing some for loop examples. We'll need to start with a list of items. I'll start with a list of JSON objects defined below. Lists can contain any data type, lets start with a list of integers."
   ]
  },
  {
   "cell_type": "code",
   "execution_count": null,
   "metadata": {
    "collapsed": true
   },
   "outputs": [],
   "source": [
    "# Define a list of objects\n",
    "\n",
    "numbers = [1, 2, 3, 4, 5, 6, 7, 8, 9, 10, 11, 12, 13, 14, 15, 16, 17, 18, 19, 20]"
   ]
  },
  {
   "cell_type": "code",
   "execution_count": null,
   "metadata": {
    "collapsed": true
   },
   "outputs": [],
   "source": [
    "# our first for loop:\n",
    "\n",
    "for number in numbers:\n",
    "    print(number)"
   ]
  },
  {
   "cell_type": "markdown",
   "metadata": {},
   "source": [
    "### Structure\n",
    "\n",
    "![For loop](img/ForLoop.png)\n",
    "\n"
   ]
  },
  {
   "cell_type": "code",
   "execution_count": null,
   "metadata": {
    "collapsed": true
   },
   "outputs": [],
   "source": [
    "# Try writing an example that adds 10 to each number\n",
    "\n"
   ]
  },
  {
   "cell_type": "markdown",
   "metadata": {},
   "source": [
    "## Logic - Evaluating conditions\n",
    "\n",
    "We may want to evaluate some quality of our things as we loop through our list. We can add logical tests. Here are some examples of evaluation in python:"
   ]
  },
  {
   "cell_type": "code",
   "execution_count": null,
   "metadata": {},
   "outputs": [],
   "source": [
    "# evaluate if things are equal:\n",
    "\n",
    "\"a\" == \"a\""
   ]
  },
  {
   "cell_type": "code",
   "execution_count": null,
   "metadata": {},
   "outputs": [],
   "source": [
    "# compare numbers\n",
    "\n",
    "3 < 2"
   ]
  },
  {
   "cell_type": "markdown",
   "metadata": {},
   "source": [
    "We can add conditions based on logical tests like the ones above. Here's an example below."
   ]
  },
  {
   "cell_type": "code",
   "execution_count": null,
   "metadata": {
    "collapsed": true
   },
   "outputs": [],
   "source": [
    "# Using a condition in a loop.\n",
    "\n",
    "for number in numbers:\n",
    "    if number >= 5:\n",
    "        print(str(number) + \" is greater or equal to five\")"
   ]
  },
  {
   "cell_type": "markdown",
   "metadata": {
    "collapsed": true
   },
   "source": [
    "## While Loops\n",
    "\n",
    "You can even have a loop do something over and over as long as a condition is true. Take this example which prints a number and adds one to it as long as that number is less than or equal to ten."
   ]
  },
  {
   "cell_type": "code",
   "execution_count": null,
   "metadata": {},
   "outputs": [],
   "source": [
    "# While loop\n",
    "\n",
    "n = 0\n",
    "\n",
    "while n <= 10:\n",
    "    print(n)\n",
    "    n = n + 1"
   ]
  }
 ],
 "metadata": {
  "kernelspec": {
   "display_name": "Python 3",
   "language": "python",
   "name": "python3"
  },
  "language_info": {
   "codemirror_mode": {
    "name": "ipython",
    "version": 3
   },
   "file_extension": ".py",
   "mimetype": "text/x-python",
   "name": "python",
   "nbconvert_exporter": "python",
   "pygments_lexer": "ipython3",
   "version": "3.6.3"
  }
 },
 "nbformat": 4,
 "nbformat_minor": 2
}
