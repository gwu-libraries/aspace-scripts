{
 "cells": [
  {
   "cell_type": "code",
   "execution_count": null,
   "metadata": {
    "collapsed": true
   },
   "outputs": [],
   "source": [
    "import requests\n",
    "import json"
   ]
  },
  {
   "cell_type": "markdown",
   "metadata": {
    "collapsed": true
   },
   "source": [
    "# Change these"
   ]
  },
  {
   "cell_type": "code",
   "execution_count": null,
   "metadata": {
    "collapsed": true
   },
   "outputs": [],
   "source": [
    "USER = ''\n",
    "PASS = ''\n",
    "HOST = 'http://archivesspace.library.gwu.edu:8089/'"
   ]
  },
  {
   "cell_type": "code",
   "execution_count": null,
   "metadata": {
    "collapsed": true
   },
   "outputs": [],
   "source": [
    "LAST_PAGE = 304\n",
    "PAGE_SIZE = 100"
   ]
  },
  {
   "cell_type": "markdown",
   "metadata": {},
   "source": [
    "# Don't need to change anything below this comment"
   ]
  },
  {
   "cell_type": "code",
   "execution_count": null,
   "metadata": {
    "collapsed": true
   },
   "outputs": [],
   "source": [
    "# Here's our authentication function. It will return a session\n",
    "# token if it works, or the value False if if doesn't"
   ]
  },
  {
   "cell_type": "code",
   "execution_count": null,
   "metadata": {
    "collapsed": false
   },
   "outputs": [],
   "source": [
    "def aspace_auth(host, username, password):\n",
    "    auth = requests.post(host + '/users/' + username + '/login',\n",
    "                        params={'password' : password})\n",
    "    if auth.status_code == 200:\n",
    "        token = auth.json()['session']\n",
    "        headers = {'X-ArchivesSpace-Session': token}\n",
    "        return(headers)\n",
    "    else:\n",
    "        return(False)\n",
    "\n",
    "headers = aspace_auth(HOST, USER, PASS)\n",
    "print(headers)"
   ]
  },
  {
   "cell_type": "markdown",
   "metadata": {},
   "source": [
    "OK, let's get those empty containers!\n",
    "\n",
    "We'll sart on page 1\n",
    "\n",
    "While this condition is true (1 is less than or equal to the value of LAST_PAGE)\n",
    "\n",
    "the value of page and page size each time."
   ]
  },
  {
   "cell_type": "code",
   "execution_count": null,
   "metadata": {
    "collapsed": false
   },
   "outputs": [],
   "source": [
    "#Reset page to \"1\"\n",
    "page = 1\n",
    "\n",
    "#While page is less than whatever you entered above as the value for \"LAST_PAGE\"\n",
    "while page <= LAST_PAGE:\n",
    "    # Get a page of containers, notice how we're filling in\n",
    "    # the value of page and page size each time.\n",
    "    container_req = requests.get(HOST +'/repositories/2/top_containers?page='\n",
    "                                 + str(page)\n",
    "                                 + '&page_size=' \n",
    "                                 + str(PAGE_SIZE),\n",
    "                                 headers=headers)\n",
    "    \n",
    "    # I put this in so there's some output and we don't get\n",
    "    # too impatient\n",
    "    if container_req.status_code <= 299:\n",
    "        print(\"Got result page: \" + container_req.url)\n",
    "    \n",
    "    # We're interested in the results\n",
    "    containers = container_req.json()['results']\n",
    "    \n",
    "    # Create a blank list, later for the URIs \n",
    "    # of all NEA top level containers\n",
    "    tlc_uri = []\n",
    "    \n",
    "    # We'll open a file to write our empty continers to\n",
    "    fh = open('nea_containers.jsonl', 'a')\n",
    "    \n",
    "    # We'll do our filter for each set of results\n",
    "    for container in containers:\n",
    "        # If the container is linked to any records, \n",
    "        # it'll have some value in \"collection\" field\n",
    "        if container['collection'] != []:\n",
    "            # Set collection to equal the display string \n",
    "            # of the container's first collection\n",
    "            collection = container['collection'][0]['display_string']\n",
    "            # If that includes the words \"National Education Association\"\n",
    "            if \"National Education Association\" in collection:\n",
    "                # Print the container json to the terminal window\n",
    "                #print (container)\n",
    "                # Add the container json to your file\n",
    "                #tlc_uri.append(container)\n",
    "                #print (tlc_uri)\n",
    "                fh.write(json.dumps(container) + '\\n')\n",
    "    \n",
    "    # finally, add 1 to the page so the next time the loop\n",
    "    # runs it will get the next page\n",
    "    page = page + 1"
   ]
  }
 ],
 "metadata": {
  "kernelspec": {
   "display_name": "Python 3",
   "language": "python",
   "name": "python3"
  },
  "language_info": {
   "codemirror_mode": {
    "name": "ipython",
    "version": 3
   },
   "file_extension": ".py",
   "mimetype": "text/x-python",
   "name": "python",
   "nbconvert_exporter": "python",
   "pygments_lexer": "ipython3",
   "version": "3.5.1"
  }
 },
 "nbformat": 4,
 "nbformat_minor": 2
}
