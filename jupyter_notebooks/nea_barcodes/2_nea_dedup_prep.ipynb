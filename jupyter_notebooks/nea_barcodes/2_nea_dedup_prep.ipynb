{
 "cells": [
  {
   "cell_type": "code",
   "execution_count": null,
   "metadata": {
    "collapsed": true
   },
   "outputs": [],
   "source": [
    "# You may first need to open your terminal and install jsonlines by typing:\n",
    "# \"pip install jsonlines\""
   ]
  },
  {
   "cell_type": "code",
   "execution_count": null,
   "metadata": {
    "collapsed": false
   },
   "outputs": [],
   "source": [
    "import requests\n",
    "import json\n",
    "import jsonlines"
   ]
  },
  {
   "cell_type": "markdown",
   "metadata": {},
   "source": [
    "# Change these: Add your credentials"
   ]
  },
  {
   "cell_type": "code",
   "execution_count": null,
   "metadata": {
    "collapsed": false
   },
   "outputs": [],
   "source": [
    "USER = ''\n",
    "PASS = ''\n",
    "HOST = 'http://gwaspace-test.wrlc.org:8089' #don't end with a slash\n",
    "def aspace_auth(host, username, password):\n",
    "    auth = requests.post(host + '/users/' + username + '/login',\n",
    "                        params={'password' : password})\n",
    "    if auth.status_code == 200:\n",
    "        token = auth.json()['session']\n",
    "        headers = {'X-ArchivesSpace-Session': token}\n",
    "        return(headers)\n",
    "    else:\n",
    "        return(False)\n",
    "\n",
    "headers = aspace_auth(HOST, USER, PASS)\n",
    "print(headers)"
   ]
  },
  {
   "cell_type": "markdown",
   "metadata": {},
   "source": [
    "# Don't need to change anything below this comment (in theory . . . )"
   ]
  },
  {
   "cell_type": "code",
   "execution_count": null,
   "metadata": {
    "collapsed": false
   },
   "outputs": [],
   "source": [
    "# We need a metadata field that's always empty, where we can \"park\" a bit of information. \n",
    "\n",
    "# Let's check to see if the \"ils_holding_id\" is always empty.\n",
    "\n",
    "print('Checking for items using the ils_holding_id field. . . ')\n",
    "      \n",
    "with jsonlines.open('nea_containers.jsonl') as dup_list:\n",
    "    for container in dup_list:\n",
    "        # Save the container's box number and URL to variables.\n",
    "        uri = (container['uri'])\n",
    "        # Get a fresh copy of the container from ASpace\n",
    "        container = requests.get(HOST + uri,\n",
    "                                  headers=headers)\n",
    "        container = container.json()\n",
    "        if container.get('ils_holding_id', None) is None:\n",
    "            pass\n",
    "        else:\n",
    "            print(\"Oops! \" + uri + \" has ils_holding_id: \" + container['ils_holding_id'])\n",
    "            print(container.keys())\n",
    "print(\"\\nAll done checking!\")"
   ]
  },
  {
   "cell_type": "code",
   "execution_count": null,
   "metadata": {
    "collapsed": false
   },
   "outputs": [],
   "source": [
    "# Make a blank list. \n",
    "# As the script checks for duplicates, for each box\n",
    "# it'll make a note of the canonical copy in this list.\n",
    "dedup_list = []\n",
    "\n",
    "# Let's make a metaphorical switch, and let's turn it off.\n",
    "switch = 'off'\n",
    "\n",
    "#Look through the dup_list that you produced in a previous script. . . \n",
    "with jsonlines.open('nea_containers.jsonl') as dup_list:\n",
    "    # For each NEA container in that list . . . \n",
    "    for container in dup_list:\n",
    "        # Save the container's box number and URL to variables.\n",
    "        indicator = (container['indicator'])\n",
    "        uri = (container['uri'])\n",
    "        # Get a fresh copy of the container from ASpace\n",
    "        container = requests.get(HOST + uri,\n",
    "                                  headers=headers)\n",
    "        container = container.json()\n",
    "        # Ok, so for this NEA container on the list, you've got a fresh copy on hand.\n",
    "        # Check to see if its box number has already been added to the dedup_list\n",
    "        for d in dedup_list:\n",
    "            # If has already been added, then you've found a duplicate record! \n",
    "            if d.get('indicator', None) == indicator:\n",
    "                # Turn your metaphorical \"switch\" on \n",
    "                switch = 'on'\n",
    "                # Save the canonical uri\n",
    "                canonical_uri = d['uri']\n",
    "                # Print status to the terminal.\n",
    "                print('Duplicate: ' + uri + ', ' + indicator + ' (canonical: ' + canonical_uri + ')')\n",
    "                # Don't bother looking through the rest of the list. \n",
    "                break\n",
    "            #If it checks all of dedup_list and doesn't find it, don't do anything just yet.\n",
    "            \n",
    "        # If that box number was in dedup_list, the \"switch\" is on, and you want to mark the container as a duplicate. \n",
    "        if switch == 'on':\n",
    "            # Edit temporarily park the canonical URI into the \"ils_holding_id\" field.\n",
    "            container['ils_holding_id'] = canonical_uri\n",
    "            edit = requests.post(HOST + uri,\n",
    "                             data=json.dumps(container),\n",
    "                             headers=headers)\n",
    "            print('Parking canonical URI in ILS Holding ID field. Response should be 200 if edit worked.')\n",
    "            print(edit)\n",
    "            result = requests.get(HOST + uri,\n",
    "                                  headers=headers)\n",
    "        else:\n",
    "            add_this = {'indicator':indicator, 'uri': uri}\n",
    "            dedup_list.append(add_this)\n",
    "            print('NEW: ' + uri + ', ' + indicator)\n",
    "            print('Added to dedup_list as canonical record')\n",
    "        print('')\n",
    "        #turn the switch back off\n",
    "        switch = 'off'"
   ]
  },
  {
   "cell_type": "code",
   "execution_count": null,
   "metadata": {
    "collapsed": true
   },
   "outputs": [],
   "source": []
  }
 ],
 "metadata": {
  "kernelspec": {
   "display_name": "Python 3",
   "language": "python",
   "name": "python3"
  },
  "language_info": {
   "codemirror_mode": {
    "name": "ipython",
    "version": 3
   },
   "file_extension": ".py",
   "mimetype": "text/x-python",
   "name": "python",
   "nbconvert_exporter": "python",
   "pygments_lexer": "ipython3",
   "version": "3.5.1"
  }
 },
 "nbformat": 4,
 "nbformat_minor": 0
}
