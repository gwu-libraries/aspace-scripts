{
 "cells": [
  {
   "cell_type": "code",
   "execution_count": null,
   "metadata": {},
   "outputs": [],
   "source": [
    "import json, requests, time, csv, os"
   ]
  },
  {
   "cell_type": "code",
   "execution_count": null,
   "metadata": {},
   "outputs": [],
   "source": [
    "startTime = time.time()"
   ]
  },
  {
   "cell_type": "code",
   "execution_count": null,
   "metadata": {},
   "outputs": [],
   "source": [
    "USER = ''\n",
    "PASS = ''\n",
    "HOST = ''\n",
    "baseURL = ''"
   ]
  },
  {
   "cell_type": "code",
   "execution_count": null,
   "metadata": {},
   "outputs": [],
   "source": [
    "def aspace_auth(host, username, password):\n",
    "    auth = requests.post(host + '/users/' + username + '/login',\n",
    "                        params={'password' : password})\n",
    "    if auth.status_code == 200:\n",
    "        token = auth.json()['session']\n",
    "        headers = {'X-ArchivesSpace-Session': token}\n",
    "        return(headers)\n",
    "    else:\n",
    "        return(False)\n",
    "\n",
    "headers = aspace_auth(HOST, USER, PASS)\n",
    "print(headers)"
   ]
  },
  {
   "cell_type": "code",
   "execution_count": null,
   "metadata": {},
   "outputs": [],
   "source": [
    "# test for successful connection\n",
    "def test_connection():\n",
    "    try:\n",
    "        requests.get(baseURL)\n",
    "        print('Connected!')\n",
    "        return True\n",
    "\n",
    "    except requests.exceptions.ConnectionError:\n",
    "        print('Connection error. Please confirm ArchivesSpace is running.  Trying again in 10 seconds.')\n",
    "\n",
    "is_connected = test_connection()\n",
    "\n",
    "while not is_connected:\n",
    "    time.sleep(10)\n",
    "    is_connected = test_connection()\n",
    "\n",
    "# print instructions\n",
    "# print 'This script replaces existing fauxcodes with real barcodes (linked in a separate csv file) in ArchivesSpace.'\n",
    "#raw_input('Press Enter to continue...')\n",
    "\n",
    "# open csv and generate dict\n",
    "reader = csv.DictReader(open('output.csv'))\n",
    "\n",
    "# GET each top_container listed in top_containers and add to records\n",
    "print('The following barcodes have been updated in ArchivesSpace:')\n",
    "for row in reader:\n",
    "    uri = row['uri']\n",
    "    output = requests.get(baseURL + uri, headers=headers).json()\n",
    "    output['barcode'] = row['real']\n",
    "    post = requests.post(baseURL + uri, headers=headers, data=json.dumps(output)).json()\n",
    "    print(post)\n",
    "\n",
    "# show script runtime\n",
    "elapsedTime = time.time() - startTime\n",
    "m, s = divmod(elapsedTime, 60)\n",
    "h, m = divmod(m, 60)\n",
    "print('Post complete.  Total script run time: ', '%d:%02d:%02d' % (h, m, s))"
   ]
  }
 ],
 "metadata": {
  "kernelspec": {
   "display_name": "Python 3",
   "language": "python",
   "name": "python3"
  },
  "language_info": {
   "codemirror_mode": {
    "name": "ipython",
    "version": 3
   },
   "file_extension": ".py",
   "mimetype": "text/x-python",
   "name": "python",
   "nbconvert_exporter": "python",
   "pygments_lexer": "ipython3",
   "version": "3.6.4"
  }
 },
 "nbformat": 4,
 "nbformat_minor": 2
}
