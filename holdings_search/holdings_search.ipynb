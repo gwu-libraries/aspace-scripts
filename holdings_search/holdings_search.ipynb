{
 "cells": [
  {
   "cell_type": "markdown",
   "metadata": {},
   "source": [
    "# to do:\n",
    "- Paginate\n",
    "- Remove extra lines in the CSV\n",
    "- Why do you have to run the print-to-CSV part twice before the CSV appears to update? May be issue with Excel.\n",
    "- Check to see if assumptions about notes aren't correct"
   ]
  },
  {
   "cell_type": "code",
   "execution_count": 119,
   "metadata": {
    "collapsed": false
   },
   "outputs": [],
   "source": [
    "# Import some stuff you'll use\n",
    "import requests\n",
    "import json\n",
    "import csv"
   ]
  },
  {
   "cell_type": "markdown",
   "metadata": {},
   "source": [
    "# Change these: Add your credentials"
   ]
  },
  {
   "cell_type": "code",
   "execution_count": 120,
   "metadata": {
    "collapsed": false
   },
   "outputs": [
    {
     "name": "stdout",
     "output_type": "stream",
     "text": [
      "{'X-ArchivesSpace-Session': 'a898909fe4708e0e9f5c324f71bddd70573cf45bb3f10607fcfa57b56ddf5da6'}\n"
     ]
    }
   ],
   "source": [
    "USER = 'Rachel'\n",
    "PASS = 'Gelman#2130'\n",
    "HOST = 'http://archivesspace.library.gwu.edu:8089' #don't end with a slash\n",
    "def aspace_auth(host, username, password):\n",
    "    auth = requests.post(HOST + '/users/' + username + '/login',\n",
    "                        params={'password' : password})\n",
    "    if auth.status_code == 200:\n",
    "        token = auth.json()['session']\n",
    "        headers = {'X-ArchivesSpace-Session': token}\n",
    "        return(headers)\n",
    "    else:\n",
    "        return(False)\n",
    "\n",
    "headers = aspace_auth(HOST, USER, PASS)\n",
    "print(headers)"
   ]
  },
  {
   "cell_type": "markdown",
   "metadata": {},
   "source": [
    "# Search for any aspace records of any type with a given query term in any notes field"
   ]
  },
  {
   "cell_type": "code",
   "execution_count": 121,
   "metadata": {
    "collapsed": true
   },
   "outputs": [],
   "source": [
    "# CHANGE YOUR SEARCH TERM HERE!\n",
    "q = 'holdings'"
   ]
  },
  {
   "cell_type": "code",
   "execution_count": 122,
   "metadata": {
    "collapsed": false
   },
   "outputs": [],
   "source": [
    "# LET'S TEST!\n",
    "\n",
    "# Here is the actual search we're sending to ArchivesSpace!\n",
    "# First we set up the crazy complicated URL for an advanced query of the \"notes\" field.\n",
    "endpoint = '/repositories/2/search?page=1&aq={\"query\":{\"field\":\"notes\",\"value\":\"' + q + '\", \"jsonmodel_type\":\"field_query\",\"negated\":false,\"literal\":true}}'\n",
    "# Then we send that search up to ArchivesSpace\n",
    "results = requests.get(HOST + endpoint, headers=headers)\n",
    "# Make sure our python script knows to read the results as JSON\n",
    "results=results.json()\n",
    "LAST_PAGE = results['last_page']\n",
    "PAGE_SIZE = results['page_size']\n"
   ]
  },
  {
   "cell_type": "code",
   "execution_count": 123,
   "metadata": {
    "collapsed": true
   },
   "outputs": [],
   "source": [
    "# The results include a bunch of facet & page information, which we want to skip. \n",
    "# So, let's just make results equal to the part of results without the facet or page info\n",
    "results=results['results']\n",
    "\n",
    "# Set things up so the filename is based on your search term\n",
    "filename = \"search_for_\" + q + \".csv\"\n",
    "\n",
    "# Create and open the file\n",
    "f=csv.writer(open(filename, 'w'),delimiter=',')\n",
    "\n",
    "#Create the first row of column headers\n",
    "f.writerow(['uri','title','identifier','external_id','record_type','note_with_search_term','note_type'])\n",
    "\n",
    "# Add all the data!\n",
    "# For each record returned by the search above . . . \n",
    "for result in results:\n",
    "    # Define all the fields that you'd like put into the CSV. \n",
    "    uri = result.get('uri')\n",
    "    title = result.get('title')\n",
    "    identifier = result.get('identifier')\n",
    "    external_id = result.get('external_id')\n",
    "    record_type = result.get('types')\n",
    "    aspace_json = json.loads(result.get('json'))\n",
    "    # Below, we are making the assumption that each record will have the search term in only one note, \n",
    "    # and each multi-part note actually only has one subnote \n",
    "    # This returns the content of the first note that has the search term.\n",
    "    notes = aspace_json['notes']\n",
    "    for note in notes:\n",
    "        try:\n",
    "            subnotes = note.get('subnotes')\n",
    "            content = subnotes[0]['content']\n",
    "            note_type = note['type']\n",
    "        except:\n",
    "            content = note['content'][0]\n",
    "            note_type = note['type']\n",
    "        if q in content:\n",
    "            note_with_search_term = content\n",
    "    f.writerow([uri,title,identifier,external_id,record_type,note_with_search_term,note_type])"
   ]
  },
  {
   "cell_type": "markdown",
   "metadata": {},
   "source": [
    "# ASpace search queries that didn't work. "
   ]
  },
  {
   "cell_type": "code",
   "execution_count": 23,
   "metadata": {
    "collapsed": false
   },
   "outputs": [
    {
     "data": {
      "text/plain": [
       "<Response [400]>"
      ]
     },
     "execution_count": 23,
     "metadata": {},
     "output_type": "execute_result"
    }
   ],
   "source": [
    "query=\"q:Anything\"\n",
    "search = requests.get(HOST + '/search?', headers=headers, data=query)\n",
    "search"
   ]
  },
  {
   "cell_type": "code",
   "execution_count": 24,
   "metadata": {
    "collapsed": false
   },
   "outputs": [
    {
     "data": {
      "text/plain": [
       "<Response [403]>"
      ]
     },
     "execution_count": 24,
     "metadata": {},
     "output_type": "execute_result"
    }
   ],
   "source": [
    "endpoint = '/search?page=1&page_size=1&q=\"/repositories/2\"'\n",
    "\n",
    "results = requests.get(HOST + endpoint, headers=headers)\n",
    "results"
   ]
  }
 ],
 "metadata": {
  "kernelspec": {
   "display_name": "Python 3",
   "language": "python",
   "name": "python3"
  },
  "language_info": {
   "codemirror_mode": {
    "name": "ipython",
    "version": 3
   },
   "file_extension": ".py",
   "mimetype": "text/x-python",
   "name": "python",
   "nbconvert_exporter": "python",
   "pygments_lexer": "ipython3",
   "version": "3.5.1"
  }
 },
 "nbformat": 4,
 "nbformat_minor": 0
}
